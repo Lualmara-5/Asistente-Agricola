{
 "cells": [
  {
   "cell_type": "markdown",
   "id": "db8f0d4c",
   "metadata": {},
   "source": [
    "3"
   ]
  },
  {
   "cell_type": "markdown",
   "id": "76416414",
   "metadata": {},
   "source": [
    "2"
   ]
  },
  {
   "cell_type": "markdown",
   "id": "cb1108ae",
   "metadata": {},
   "source": [
    "1"
   ]
  }
 ],
 "metadata": {
  "language_info": {
   "name": "python"
  }
 },
 "nbformat": 4,
 "nbformat_minor": 5
}
