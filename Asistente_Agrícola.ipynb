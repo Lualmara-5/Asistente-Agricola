{
 "cells": [
  {
   "cell_type": "code",
   "execution_count": null,
   "id": "3a1f4208",
   "metadata": {
    "vscode": {
     "languageId": "plaintext"
    }
   },
   "outputs": [],
   "source": [
    "python"
   ]
  }
 ],
 "metadata": {
  "language_info": {
   "name": "python"
  }
 },
 "nbformat": 4,
 "nbformat_minor": 5
}
